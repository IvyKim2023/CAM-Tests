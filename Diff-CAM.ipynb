{
 "cells": [
  {
   "cell_type": "code",
   "execution_count": 25,
   "metadata": {},
   "outputs": [],
   "source": [
    "import tensorflow as tf\n",
    "from keras.models import load_model\n",
    "import numpy as np\n",
    "import matplotlib.pyplot as plt\n",
    "import cv2\n",
    "import keras.backend as K"
   ]
  },
  {
   "cell_type": "markdown",
   "metadata": {},
   "source": [
    "#### Define Grad-CAM and Respond-CAM with comparing class index"
   ]
  },
  {
   "cell_type": "code",
   "execution_count": 26,
   "metadata": {},
   "outputs": [],
   "source": [
    "def grad_cam(cnn_model, data, class_index, cmp_class_index, target_layer_name, dim, scores_symbol=None):\n",
    "    return x_cam(cnn_model, data, class_index, cmp_class_index, target_layer_name, respond=False,\n",
    "      scores_symbol=scores_symbol, dim=dim)\n",
    "\n",
    "def respond_cam(cnn_model, data, class_index, cmp_class_index, target_layer_name, dim, scores_symbol=None):\n",
    "    return x_cam(cnn_model, data, class_index, cmp_class_index, target_layer_name, respond=True,\n",
    "      scores_symbol=scores_symbol, dim=dim)"
   ]
  },
  {
   "cell_type": "markdown",
   "metadata": {},
   "source": [
    "#### Common parts of Grad-CAM and Respond-CAM (x_cam)"
   ]
  },
  {
   "cell_type": "code",
   "execution_count": 27,
   "metadata": {},
   "outputs": [],
   "source": [
    "def x_cam(cnn_model, data, class_index, cmp_class_index, target_layer_name, respond, dim, scores_symbol = None):\n",
    "\n",
    "    # Get the score_symbol\n",
    "    if scores_symbol is None:\n",
    "        softmax_layer, = [l for l in cnn_model.layers if l.name == 'softmax']\n",
    "        scores_symbol = softmax_layer.input  # scores_symbol is the input of the softmax_layer, the layer to get the class scores\n",
    "    class_count = cnn_model.weights[-1].shape.dims[-1].value # i.e. length of the last bias vector\n",
    "\n",
    "    # Get the predicted class_score and the class_score of the class we want to compare\n",
    "    class_score = K.sum(K.dot(scores_symbol, K.transpose(K.one_hot([class_index], class_count))))\n",
    "    cmp_class_score = K.sum(K.dot(scores_symbol, K.transpose(K.one_hot([cmp_class_index], class_count))))  \n",
    "    diff = abs(class_score - cmp_class_score) # Calculate the difference between the class_score of the two classes\n",
    "\n",
    "    # Get the output of our target layer\n",
    "    target_layer = cnn_model.get_layer(target_layer_name)\n",
    "    \n",
    "    # Get the feature maps and diff\n",
    "    with tf.GradientTape() as tape:\n",
    "        helper_model = tf.keras.Model(inputs = cnn_model.input, \n",
    "                                             outputs = [target_layer.output, diff])\n",
    "        activation, diff = helper_model(data)\n",
    "\n",
    "    # Compute the gradient of diff with respect to the activation of the target layer\n",
    "    gradients = tape.gradient(diff, activation)\n",
    "    \n",
    "    activation = activation[0]\n",
    "    gradient = gradients[0]\n",
    "\n",
    "    # Get the CAM:\n",
    "    axis = tuple(range(dim))\n",
    "    if respond:\n",
    "        weights = np.sum(activation * gradient, axis = axis) \\\n",
    "          / (np.sum(activation + 1e-10, axis = axis))\n",
    "    else:\n",
    "        weights = np.mean(gradient, axis = axis)\n",
    "    cam = np.sum(activation * weights, axis = -1)\n",
    "    \n",
    "    return cam"
   ]
  },
  {
   "cell_type": "markdown",
   "metadata": {},
   "source": [
    "#### Test the Diff-CAM"
   ]
  },
  {
   "cell_type": "code",
   "execution_count": 28,
   "metadata": {},
   "outputs": [],
   "source": [
    "mnist = tf.keras.datasets.mnist\n",
    "(x_train, y_train), (x_test, y_test) = mnist.load_data()"
   ]
  },
  {
   "cell_type": "code",
   "execution_count": 29,
   "metadata": {},
   "outputs": [],
   "source": [
    "def cam_over_image(image, cam):\n",
    "\n",
    "    # Normalize the CAM \n",
    "    cam = (cam - cam.min()) / (cam.max() - cam.min())\n",
    "    \n",
    "    # Resize the CAM \n",
    "    cam_resized = cv2.resize(cam, (image.shape[1], image.shape[0]))\n",
    "    \n",
    "    # Original image\n",
    "    plt.figure(figsize=(12, 5))\n",
    "    plt.subplot(1, 2, 1)\n",
    "    plt.imshow(image, cmap = 'gray', interpolation = 'nearest')\n",
    "    plt.title('Original Image')\n",
    "    \n",
    "    # Cam overlay\n",
    "    plt.subplot(1, 2, 2)\n",
    "    plt.imshow(image, cmap='gray', interpolation = 'nearest')\n",
    "    plt.imshow(cam_resized, cmap='jet', alpha = 0.5, interpolation = 'nearest') \n",
    "    plt.title('CAM Overlay')\n",
    "\n",
    "    plt.show()"
   ]
  },
  {
   "cell_type": "code",
   "execution_count": 30,
   "metadata": {},
   "outputs": [
    {
     "name": "stdout",
     "output_type": "stream",
     "text": [
      "WARNING:tensorflow:5 out of the last 5 calls to <function Model.make_predict_function.<locals>.predict_function at 0x000001A67933DDA0> triggered tf.function retracing. Tracing is expensive and the excessive number of tracings could be due to (1) creating @tf.function repeatedly in a loop, (2) passing tensors with different shapes, (3) passing Python objects instead of tensors. For (1), please define your @tf.function outside of the loop. For (2), @tf.function has reduce_retracing=True option that can avoid unnecessary retracing. For (3), please refer to https://www.tensorflow.org/guide/function#controlling_retracing and https://www.tensorflow.org/api_docs/python/tf/function for  more details.\n",
      "1/1 [==============================] - 0s 52ms/step\n",
      "3\n"
     ]
    },
    {
     "data": {
      "image/png": "[encoded data removed]",
      "text/plain": [
       "<Figure size 1200x500 with 2 Axes>"
      ]
     },
     "metadata": {},
     "output_type": "display_data"
    }
   ],
   "source": [
    "model_test = load_model('model.h5')\n",
    "image = x_test[63]\n",
    "cam = respond_cam(model_test, image.reshape(1, 28, 28, 1), 3, 8, 'target_layer', 2, scores_symbol = None)\n",
    "prediction = model_test.predict(image.reshape(1, 28, 28, 1))\n",
    "print(np.argmax(prediction))\n",
    "cam_over_image(image, cam)"
   ]
  }
 ],
 "metadata": {
  "kernelspec": {
   "display_name": "Python 3",
   "language": "python",
   "name": "python3"
  },
  "language_info": {
   "codemirror_mode": {
    "name": "ipython",
    "version": 3
   },
   "file_extension": ".py",
   "mimetype": "text/x-python",
   "name": "python",
   "nbconvert_exporter": "python",
   "pygments_lexer": "ipython3",
   "version": "3.11.6"
  }
 },
 "nbformat": 4,
 "nbformat_minor": 2
}
